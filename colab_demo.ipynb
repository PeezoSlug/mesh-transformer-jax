{
 "cells": [
  {
   "cell_type": "markdown",
   "metadata": {
    "id": "pHIJVqHsh4An"
   },
   "source": [
    "# GPT-J-6B Inference Demo\n",
    "\n",
    "<a href=\"http://colab.research.google.com/github/kingoflolz/mesh-transformer-jax/blob/master/colab_demo.ipynb\" target=\"_parent\"><img src=\"https://colab.research.google.com/assets/colab-badge.svg\" alt=\"Open In Colab\"/></a>\n",
    "\n",
    "This notebook demonstrates how to run the [GPT-J-6B model](https://github.com/kingoflolz/mesh-transformer-jax/#GPT-J-6B). See the link for more details about the model, including evaluation metrics and credits."
   ]
  },
  {
   "cell_type": "markdown",
   "metadata": {
    "id": "8CMw_dSQKfhT"
   },
   "source": [
    "## Install Dependencies\n",
    "\n",
    "First we download the model and install some dependencies. This step takes at least 5 minutes (possibly longer depending on server load).\n",
    "\n",
    "!!! **Make sure you are using a TPU runtime!** !!!"
   ]
  },
  {
   "cell_type": "code",
   "execution_count": null,
   "metadata": {
    "colab": {
     "base_uri": "https://localhost:8080/",
     "height": 1000
    },
    "dotnet_interactive": {
     "language": "csharp"
    },
    "id": "n7xAFw-LOYfe",
    "outputId": "7bd7fd83-a40c-41a2-8a14-9a11fc2f150c",
    "vscode": {
     "languageId": "dotnet-interactive.csharp"
    }
   },
   "outputs": [
    {
     "ename": "Error",
     "evalue": "(1,6): error CS1002: ; expected\r\n(1,18): error CS1002: ; expected\r\n(3,3): error CS1024: Preprocessor directive expected\r\n(4,7): error CS1002: ; expected\r\n(4,15): error CS1002: ; expected\r\n(6,7): error CS1002: ; expected\r\n(6,14): error CS1002: ; expected\r\n(6,23): error CS1002: ; expected\r\n(8,2): error CS1002: ; expected\r\n(8,12): error CS1002: ; expected\r\n(9,6): error CS1002: ; expected\r\n(9,17): error CS1002: ; expected\r\n(11,3): error CS1024: Preprocessor directive expected\r\n(12,2): error CS1002: ; expected\r\n(12,14): error CS1002: ; expected\r\n(12,44): error CS1002: ; expected\r\n(12,48): error CS1002: ; expected\r\n(12,63): error CS1002: ; expected",
     "output_type": "error",
     "traceback": [
      "(1,6): error CS1002: ; expected\r\n",
      "(1,18): error CS1002: ; expected\r\n",
      "(3,3): error CS1024: Preprocessor directive expected\r\n",
      "(4,7): error CS1002: ; expected\r\n",
      "(4,15): error CS1002: ; expected\r\n",
      "(6,7): error CS1002: ; expected\r\n",
      "(6,14): error CS1002: ; expected\r\n",
      "(6,23): error CS1002: ; expected\r\n",
      "(8,2): error CS1002: ; expected\r\n",
      "(8,12): error CS1002: ; expected\r\n",
      "(9,6): error CS1002: ; expected\r\n",
      "(9,17): error CS1002: ; expected\r\n",
      "(11,3): error CS1024: Preprocessor directive expected\r\n",
      "(12,2): error CS1002: ; expected\r\n",
      "(12,14): error CS1002: ; expected\r\n",
      "(12,44): error CS1002: ; expected\r\n",
      "(12,48): error CS1002: ; expected\r\n",
      "(12,63): error CS1002: ; expected"
     ]
    }
   ],
   "source": [
    "!apt install zstd\n",
    "\n",
    "# the \"slim\" version contain only bf16 weights and no optimizer parameters, which minimizes bandwidth and memory\n",
    "!time wget -c https://the-eye.eu/public/AI/GPT-J-6B/step_383500_slim.tar.zstd\n",
    "\n",
    "!time tar -I zstd -xf step_383500_slim.tar.zstd\n",
    "\n",
    "!git clone https://github.com/kingoflolz/mesh-transformer-jax.git\n",
    "!pip install -r mesh-transformer-jax/requirements.txt\n",
    "\n",
    "# jax 0.2.12 is required due to a regression with xmap in 0.2.13\n",
    "!pip install mesh-transformer-jax/ jax==0.2.12 tensorflow==2.5.0"
   ]
  },
  {
   "cell_type": "markdown",
   "metadata": {
    "id": "aO1UXepF-0Uq"
   },
   "source": [
    "## Setup Model\n"
   ]
  },
  {
   "cell_type": "code",
   "execution_count": null,
   "metadata": {
    "dotnet_interactive": {
     "language": "csharp"
    },
    "id": "ex0qJgaueZtJ",
    "vscode": {
     "languageId": "dotnet-interactive.csharp"
    }
   },
   "outputs": [
    {
     "ename": "Error",
     "evalue": "(1,10): error CS1002: ; expected\r\n(2,16): error CS1002: ; expected\r\n(3,24): error CS1003: Syntax error, 'in' expected\r\n(3,30): error CS0742: A query body must end with a select clause or a group clause\r\n(3,30): error CS1002: ; expected\r\n(5,29): error CS1012: Too many characters in character literal\r\n(5,60): error CS1002: ; expected\r\n(6,8): error CS1002: ; expected\r\n(6,8): error CS1012: Too many characters in character literal\r\n(6,79): error CS1002: ; expected\r\n(7,19): error CS1002: ; expected\r\n(9,3): error CS1024: Preprocessor directive expected\r\n(10,44): error CS1002: ; expected\r\n(11,58): error CS1012: Too many characters in character literal",
     "output_type": "error",
     "traceback": [
      "(1,10): error CS1002: ; expected\r\n",
      "(2,16): error CS1002: ; expected\r\n",
      "(3,24): error CS1003: Syntax error, 'in' expected\r\n",
      "(3,30): error CS0742: A query body must end with a select clause or a group clause\r\n",
      "(3,30): error CS1002: ; expected\r\n",
      "(5,29): error CS1012: Too many characters in character literal\r\n",
      "(5,60): error CS1002: ; expected\r\n",
      "(6,8): error CS1002: ; expected\r\n",
      "(6,8): error CS1012: Too many characters in character literal\r\n",
      "(6,79): error CS1002: ; expected\r\n",
      "(7,19): error CS1002: ; expected\r\n",
      "(9,3): error CS1024: Preprocessor directive expected\r\n",
      "(10,44): error CS1002: ; expected\r\n",
      "(11,58): error CS1012: Too many characters in character literal"
     ]
    }
   ],
   "source": [
    "import os\n",
    "import requests \n",
    "from jax.config import config\n",
    "\n",
    "colab_tpu_addr = os.environ['COLAB_TPU_ADDR'].split(':')[0]\n",
    "url = f'http://{colab_tpu_addr}:8475/requestversion/tpu_driver0.1_dev20210607'\n",
    "requests.post(url)\n",
    "\n",
    "# The following is required to use TPU Driver as JAX's backend.\n",
    "config.FLAGS.jax_xla_backend = \"tpu_driver\"\n",
    "config.FLAGS.jax_backend_target = \"grpc://\" + os.environ['COLAB_TPU_ADDR']"
   ]
  },
  {
   "cell_type": "markdown",
   "metadata": {
    "id": "NIgUVdFLe4A8"
   },
   "source": [
    "Sometimes the next step errors for some reason, just run it again ¯\\\\\\_(ツ)\\_/¯"
   ]
  },
  {
   "cell_type": "code",
   "execution_count": null,
   "metadata": {
    "dotnet_interactive": {
     "language": "csharp"
    },
    "id": "-A5IGYSaeze3",
    "vscode": {
     "languageId": "dotnet-interactive.csharp"
    }
   },
   "outputs": [
    {
     "ename": "Error",
     "evalue": "(1,12): error CS1002: ; expected\r\n(3,11): error CS1002: ; expected\r\n(4,30): error CS1003: Syntax error, 'in' expected\r\n(4,34): error CS0742: A query body must end with a select clause or a group clause\r\n(4,34): error CS1002: ; expected\r\n(5,14): error CS1002: ; expected\r\n(5,14): error CS1525: Invalid expression term 'as'\r\n(5,19): error CS1002: ; expected\r\n(6,13): error CS1002: ; expected\r\n(7,20): error CS1002: ; expected\r\n(9,41): error CS1003: Syntax error, 'in' expected\r\n(10,39): error CS1003: Syntax error, 'in' expected\r\n(11,48): error CS1003: Syntax error, 'in' expected\r\n(11,65): error CS0742: A query body must end with a select clause or a group clause",
     "output_type": "error",
     "traceback": [
      "(1,12): error CS1002: ; expected\r\n",
      "(3,11): error CS1002: ; expected\r\n",
      "(4,30): error CS1003: Syntax error, 'in' expected\r\n",
      "(4,34): error CS0742: A query body must end with a select clause or a group clause\r\n",
      "(4,34): error CS1002: ; expected\r\n",
      "(5,14): error CS1002: ; expected\r\n",
      "(5,14): error CS1525: Invalid expression term 'as'\r\n",
      "(5,19): error CS1002: ; expected\r\n",
      "(6,13): error CS1002: ; expected\r\n",
      "(7,20): error CS1002: ; expected\r\n",
      "(9,41): error CS1003: Syntax error, 'in' expected\r\n",
      "(10,39): error CS1003: Syntax error, 'in' expected\r\n",
      "(11,48): error CS1003: Syntax error, 'in' expected\r\n",
      "(11,65): error CS0742: A query body must end with a select clause or a group clause"
     ]
    }
   ],
   "source": [
    "import time\n",
    "\n",
    "import jax\n",
    "from jax.experimental import maps\n",
    "import numpy as np\n",
    "import optax\n",
    "import transformers\n",
    "\n",
    "from mesh_transformer.checkpoint import read_ckpt_lowmem\n",
    "from mesh_transformer.sampling import nucleaus_sample\n",
    "from mesh_transformer.transformer_shard import CausalTransformer"
   ]
  },
  {
   "cell_type": "code",
   "execution_count": null,
   "metadata": {
    "colab": {
     "base_uri": "https://localhost:8080/",
     "height": 167,
     "referenced_widgets": [
      "5b8a31b3b4034116af0a81d897c3123b",
      "835ee2070c05443c9fa3ae6fece3fb44",
      "9e6646f7066341ef9619f5f7e6f7c8b8",
      "4f803e3d56b74e18997b216bf9d65337",
      "f9fa7c1bc9f04df09e487b16761d6b8f",
      "39aed05f694a495abd03aa00ff71efb3",
      "61b0857802184b51abf77039fad681d7",
      "0fb689df0a8b42c2b87e7f11b818b88a",
      "8b76924bdac749d5b4908678fd0a7497",
      "b03bd083afc84f52834d4a124e57c442",
      "3ba9fe91731f4ff380cda2183ad72c4d",
      "4e01b9cceffb4d178e97f1d1b36d62b0",
      "b3ac7912f51746afae20616269dc69f0",
      "fb1263f5a3da42e6acab0e9a66551b32",
      "3426927332884df4b1ec5544ed479c45",
      "debf4a0a609a4cffa5cd686a0a23f6e2",
      "7197de8a39ab4e4186eabd061c730cf5",
      "c31661c9a1ff4bd681cc10d70fd287c0",
      "bb11a4fbf16f488082aa2bac7443fd62",
      "5360630d6b0541dbaafa7ff91610bd84",
      "f3883c133c62438db114c22cfc94e351",
      "74672c43909444c592955afd0d727a28",
      "67f7c3bc59384dc7812d7130c7cde450",
      "bb7410ff9cb4484da73302993427b90a"
     ]
    },
    "dotnet_interactive": {
     "language": "csharp"
    },
    "id": "QAgKq-X2kmba",
    "outputId": "041117df-a315-4b95-9caa-26cb870ff3df",
    "vscode": {
     "languageId": "dotnet-interactive.csharp"
    }
   },
   "outputs": [
    {
     "ename": "Error",
     "evalue": "(1,8): error CS1525: Invalid expression term '='\r\n(1,1): error CS7017: Member definition, statement, or end-of-file expected\r\n(1,10): error CS1525: Invalid expression term '{'\r\n(1,10): error CS1002: ; expected\r\n(2,11): error CS1002: ; expected\r\n(2,11): error CS1513: } expected\r\n(2,15): error CS1002: ; expected\r\n(2,15): error CS1513: } expected\r\n(3,12): error CS1002: ; expected\r\n(3,12): error CS1513: } expected\r\n(3,18): error CS1002: ; expected\r\n(3,18): error CS1513: } expected\r\n(4,12): error CS1002: ; expected\r\n(4,12): error CS1513: } expected\r\n(4,16): error CS1002: ; expected\r\n(4,16): error CS1513: } expected\r\n(5,12): error CS1002: ; expected\r\n(5,12): error CS1513: } expected\r\n(5,19): error CS1002: ; expected\r\n(5,19): error CS1513: } expected\r\n(6,9): error CS1002: ; expected\r\n(6,9): error CS1513: } expected\r\n(6,22): error CS1002: ; expected\r\n(6,22): error CS1513: } expected\r\n(7,7): error CS1002: ; expected\r\n(7,7): error CS1513: } expected\r\n(7,17): error CS1002: ; expected\r\n(7,17): error CS1513: } expected\r\n(8,19): error CS1002: ; expected\r\n(8,19): error CS1513: } expected\r\n(8,23): error CS1002: ; expected\r\n(8,23): error CS1513: } expected\r\n(10,8): error CS1002: ; expected\r\n(10,8): error CS1513: } expected\r\n(10,14): error CS1002: ; expected\r\n(10,14): error CS1513: } expected\r\n(11,22): error CS1002: ; expected\r\n(11,22): error CS1513: } expected\r\n(11,25): error CS1002: ; expected\r\n(11,25): error CS1513: } expected\r\n(12,22): error CS1002: ; expected\r\n(12,22): error CS1513: } expected\r\n(12,25): error CS1002: ; expected\r\n(12,25): error CS1513: } expected\r\n(15,21): error CS1525: Invalid expression term 'params'\r\n(15,21): error CS1002: ; expected\r\n(15,21): error CS7017: Member definition, statement, or end-of-file expected\r\n(15,28): error CS1001: Identifier expected\r\n(15,28): error CS1001: Identifier expected\r\n(16,19): error CS1525: Invalid expression term '='\r\n(16,21): error CS1525: Invalid expression term 'params'\r\n(16,21): error CS1002: ; expected\r\n(16,21): error CS7017: Member definition, statement, or end-of-file expected\r\n(16,28): error CS1001: Identifier expected\r\n(16,28): error CS1001: Identifier expected\r\n(17,5): error CS1525: Invalid expression term '='\r\n(17,7): error CS1525: Invalid expression term 'params'\r\n(17,7): error CS1002: ; expected\r\n(17,7): error CS7017: Member definition, statement, or end-of-file expected\r\n(17,14): error CS1001: Identifier expected\r\n(17,14): error CS1001: Identifier expected\r\n(20,1): error CS7017: Member definition, statement, or end-of-file expected\r\n(20,8): error CS1001: Identifier expected\r\n(20,8): error CS1001: Identifier expected\r\n(20,19): error CS1525: Invalid expression term '='\r\n(20,36): error CS1002: ; expected\r\n(22,3): error CS1024: Preprocessor directive expected\r\n(23,8): error CS1001: Identifier expected\r\n(23,8): error CS1001: Identifier expected\r\n(23,21): error CS1525: Invalid expression term '='\r\n(23,37): error CS1002: ; expected\r\n(25,33): error CS1026: ) expected\r\n(25,33): error CS1002: ; expected\r\n(26,54): error CS1002: ; expected\r\n(28,66): error CS1012: Too many characters in character literal\r\n(28,72): error CS1012: Too many characters in character literal\r\n(28,79): error CS1002: ; expected\r\n(30,60): error CS1012: Too many characters in character literal",
     "output_type": "error",
     "traceback": [
      "(1,8): error CS1525: Invalid expression term '='\r\n",
      "(1,1): error CS7017: Member definition, statement, or end-of-file expected\r\n",
      "(1,10): error CS1525: Invalid expression term '{'\r\n",
      "(1,10): error CS1002: ; expected\r\n",
      "(2,11): error CS1002: ; expected\r\n",
      "(2,11): error CS1513: } expected\r\n",
      "(2,15): error CS1002: ; expected\r\n",
      "(2,15): error CS1513: } expected\r\n",
      "(3,12): error CS1002: ; expected\r\n",
      "(3,12): error CS1513: } expected\r\n",
      "(3,18): error CS1002: ; expected\r\n",
      "(3,18): error CS1513: } expected\r\n",
      "(4,12): error CS1002: ; expected\r\n",
      "(4,12): error CS1513: } expected\r\n",
      "(4,16): error CS1002: ; expected\r\n",
      "(4,16): error CS1513: } expected\r\n",
      "(5,12): error CS1002: ; expected\r\n",
      "(5,12): error CS1513: } expected\r\n",
      "(5,19): error CS1002: ; expected\r\n",
      "(5,19): error CS1513: } expected\r\n",
      "(6,9): error CS1002: ; expected\r\n",
      "(6,9): error CS1513: } expected\r\n",
      "(6,22): error CS1002: ; expected\r\n",
      "(6,22): error CS1513: } expected\r\n",
      "(7,7): error CS1002: ; expected\r\n",
      "(7,7): error CS1513: } expected\r\n",
      "(7,17): error CS1002: ; expected\r\n",
      "(7,17): error CS1513: } expected\r\n",
      "(8,19): error CS1002: ; expected\r\n",
      "(8,19): error CS1513: } expected\r\n",
      "(8,23): error CS1002: ; expected\r\n",
      "(8,23): error CS1513: } expected\r\n",
      "(10,8): error CS1002: ; expected\r\n",
      "(10,8): error CS1513: } expected\r\n",
      "(10,14): error CS1002: ; expected\r\n",
      "(10,14): error CS1513: } expected\r\n",
      "(11,22): error CS1002: ; expected\r\n",
      "(11,22): error CS1513: } expected\r\n",
      "(11,25): error CS1002: ; expected\r\n",
      "(11,25): error CS1513: } expected\r\n",
      "(12,22): error CS1002: ; expected\r\n",
      "(12,22): error CS1513: } expected\r\n",
      "(12,25): error CS1002: ; expected\r\n",
      "(12,25): error CS1513: } expected\r\n",
      "(15,21): error CS1525: Invalid expression term 'params'\r\n",
      "(15,21): error CS1002: ; expected\r\n",
      "(15,21): error CS7017: Member definition, statement, or end-of-file expected\r\n",
      "(15,28): error CS1001: Identifier expected\r\n",
      "(15,28): error CS1001: Identifier expected\r\n",
      "(16,19): error CS1525: Invalid expression term '='\r\n",
      "(16,21): error CS1525: Invalid expression term 'params'\r\n",
      "(16,21): error CS1002: ; expected\r\n",
      "(16,21): error CS7017: Member definition, statement, or end-of-file expected\r\n",
      "(16,28): error CS1001: Identifier expected\r\n",
      "(16,28): error CS1001: Identifier expected\r\n",
      "(17,5): error CS1525: Invalid expression term '='\r\n",
      "(17,7): error CS1525: Invalid expression term 'params'\r\n",
      "(17,7): error CS1002: ; expected\r\n",
      "(17,7): error CS7017: Member definition, statement, or end-of-file expected\r\n",
      "(17,14): error CS1001: Identifier expected\r\n",
      "(17,14): error CS1001: Identifier expected\r\n",
      "(20,1): error CS7017: Member definition, statement, or end-of-file expected\r\n",
      "(20,8): error CS1001: Identifier expected\r\n",
      "(20,8): error CS1001: Identifier expected\r\n",
      "(20,19): error CS1525: Invalid expression term '='\r\n",
      "(20,36): error CS1002: ; expected\r\n",
      "(22,3): error CS1024: Preprocessor directive expected\r\n",
      "(23,8): error CS1001: Identifier expected\r\n",
      "(23,8): error CS1001: Identifier expected\r\n",
      "(23,21): error CS1525: Invalid expression term '='\r\n",
      "(23,37): error CS1002: ; expected\r\n",
      "(25,33): error CS1026: ) expected\r\n",
      "(25,33): error CS1002: ; expected\r\n",
      "(26,54): error CS1002: ; expected\r\n",
      "(28,66): error CS1012: Too many characters in character literal\r\n",
      "(28,72): error CS1012: Too many characters in character literal\r\n",
      "(28,79): error CS1002: ; expected\r\n",
      "(30,60): error CS1012: Too many characters in character literal"
     ]
    }
   ],
   "source": [
    "params = {\n",
    "  \"layers\": 28,\n",
    "  \"d_model\": 4096,\n",
    "  \"n_heads\": 16,\n",
    "  \"n_vocab\": 50400,\n",
    "  \"norm\": \"layernorm\",\n",
    "  \"pe\": \"rotary\",\n",
    "  \"pe_rotary_dims\": 64,\n",
    "\n",
    "  \"seq\": 2048,\n",
    "  \"cores_per_replica\": 8,\n",
    "  \"per_replica_batch\": 1,\n",
    "}\n",
    "\n",
    "per_replica_batch = params[\"per_replica_batch\"]\n",
    "cores_per_replica = params[\"cores_per_replica\"]\n",
    "seq = params[\"seq\"]\n",
    "\n",
    "\n",
    "params[\"sampler\"] = nucleaus_sample\n",
    "\n",
    "# here we \"remove\" the optimizer parameters from the model (as we don't need them for inference)\n",
    "params[\"optimizer\"] = optax.scale(0)\n",
    "\n",
    "mesh_shape = (jax.device_count() // cores_per_replica, cores_per_replica)\n",
    "devices = np.array(jax.devices()).reshape(mesh_shape)\n",
    "\n",
    "maps.thread_resources.env = maps.ResourceEnv(maps.Mesh(devices, ('dp', 'mp')))\n",
    "\n",
    "tokenizer = transformers.GPT2TokenizerFast.from_pretrained('gpt2')"
   ]
  },
  {
   "cell_type": "markdown",
   "metadata": {
    "id": "yFgRkUgfiNdA"
   },
   "source": [
    "Here we create the network and load the parameters from the downloaded files. Expect this to take around 5 minutes."
   ]
  },
  {
   "cell_type": "code",
   "execution_count": null,
   "metadata": {
    "colab": {
     "base_uri": "https://localhost:8080/"
    },
    "dotnet_interactive": {
     "language": "csharp"
    },
    "id": "lwNETD2Uk8nu",
    "outputId": "a659285b-5b46-4ddf-d65c-fbdad0594b86",
    "vscode": {
     "languageId": "dotnet-interactive.csharp"
    }
   },
   "outputs": [
    {
     "ename": "Error",
     "evalue": "(1,53): error CS1002: ; expected\r\n(3,35): error CS1031: Type expected\r\n(3,35): error CS1001: Identifier expected\r\n(3,36): error CS1003: Syntax error, '=>' expected\r\n(5,82): error CS1002: ; expected",
     "output_type": "error",
     "traceback": [
      "(1,53): error CS1002: ; expected\r\n",
      "(3,35): error CS1031: Type expected\r\n",
      "(3,35): error CS1001: Identifier expected\r\n",
      "(3,36): error CS1003: Syntax error, '=>' expected\r\n",
      "(5,82): error CS1002: ; expected"
     ]
    }
   ],
   "source": [
    "total_batch = per_replica_batch * jax.device_count() // cores_per_replica\n",
    "\n",
    "network = CausalTransformer(params)\n",
    "\n",
    "network.state = read_ckpt_lowmem(network.state, \"step_383500/\", devices.shape[1])\n",
    "\n",
    "network.state = network.move_xmap(network.state, np.zeros(cores_per_replica))"
   ]
  },
  {
   "cell_type": "markdown",
   "metadata": {
    "id": "A-eT7Sw6if4J"
   },
   "source": [
    "## Run Model\n",
    "\n",
    "Finally, we are ready to infer with the model! The first sample takes around a minute due to compilation, but after that it should only take about 10 seconds per sample.\n",
    "\n",
    "Feel free to mess with the different sampling parameters (top_p and temp), as well as the length of the generations (gen_len, causes a recompile when changed).\n",
    "\n",
    "You can also change other things like per_replica_batch in the previous cells to change how many generations are done in parallel. A larger batch has higher latency but higher throughput when measured in tokens generated/s. This is useful for doing things like best-of-n cherry picking.\n",
    "\n",
    "*Tip for best results: Make sure your prompt does not have any trailing spaces, which tend to confuse the model due to the BPE tokenization used during training.*"
   ]
  },
  {
   "cell_type": "code",
   "execution_count": null,
   "metadata": {
    "dotnet_interactive": {
     "language": "csharp"
    },
    "vscode": {
     "languageId": "dotnet-interactive.csharp"
    }
   },
   "outputs": [
    {
     "ename": "Error",
     "evalue": "(1,3): error CS1024: Preprocessor directive expected\r\n(2,29): error CS1003: Syntax error, 'in' expected\r\n(2,33): error CS0742: A query body must end with a select clause or a group clause\r\n(2,33): error CS1002: ; expected\r\n(2,33): error CS7017: Member definition, statement, or end-of-file expected\r\n(4,5): error CS1002: ; expected\r\n(4,14): error CS1002: ; expected\r\n(4,14): error CS7017: Member definition, statement, or end-of-file expected\r\n(5,16): error CS1011: Empty character literal\r\n(5,18): error CS1003: Syntax error, ',' expected\r\n(5,18): error CS1010: Newline in constant\r\n(5,18): error CS1011: Empty character literal\r\n(7,9): error CS1026: ) expected\r\n(7,9): error CS1026: ) expected\r\n(7,9): error CS1002: ; expected\r\n(8,20): error CS1002: ; expected\r\n(8,20): error CS1513: } expected\r\n(9,6): error CS1525: Invalid expression term '<'\r\n(10,4): error CS1525: Invalid expression term '/'\r\n(11,3): error CS1011: Empty character literal\r\n(11,5): error CS1002: ; expected\r\n(11,5): error CS1010: Newline in constant\r\n(11,5): error CS1012: Too many characters in character literal\r\n(11,8): error CS1002: ; expected\r\n(12,31): error CS1012: Too many characters in character literal",
     "output_type": "error",
     "traceback": [
      "(1,3): error CS1024: Preprocessor directive expected\r\n",
      "(2,29): error CS1003: Syntax error, 'in' expected\r\n",
      "(2,33): error CS0742: A query body must end with a select clause or a group clause\r\n",
      "(2,33): error CS1002: ; expected\r\n",
      "(2,33): error CS7017: Member definition, statement, or end-of-file expected\r\n",
      "(4,5): error CS1002: ; expected\r\n",
      "(4,14): error CS1002: ; expected\r\n",
      "(4,14): error CS7017: Member definition, statement, or end-of-file expected\r\n",
      "(5,16): error CS1011: Empty character literal\r\n",
      "(5,18): error CS1003: Syntax error, ',' expected\r\n",
      "(5,18): error CS1010: Newline in constant\r\n",
      "(5,18): error CS1011: Empty character literal\r\n",
      "(7,9): error CS1026: ) expected\r\n",
      "(7,9): error CS1026: ) expected\r\n",
      "(7,9): error CS1002: ; expected\r\n",
      "(8,20): error CS1002: ; expected\r\n",
      "(8,20): error CS1513: } expected\r\n",
      "(9,6): error CS1525: Invalid expression term '<'\r\n",
      "(10,4): error CS1525: Invalid expression term '/'\r\n",
      "(11,3): error CS1011: Empty character literal\r\n",
      "(11,5): error CS1002: ; expected\r\n",
      "(11,5): error CS1010: Newline in constant\r\n",
      "(11,5): error CS1012: Too many characters in character literal\r\n",
      "(11,8): error CS1002: ; expected\r\n",
      "(12,31): error CS1012: Too many characters in character literal"
     ]
    }
   ],
   "source": [
    "# allow text wrapping in generated output: https://stackoverflow.com/a/61401455\n",
    "from IPython.display import HTML, display\n",
    "\n",
    "def set_css():\n",
    "  display(HTML('''\n",
    "  <style>\n",
    "    pre {\n",
    "        white-space: pre-wrap;\n",
    "    }\n",
    "  </style>\n",
    "  '''))\n",
    "get_ipython().events.register('pre_run_cell', set_css)"
   ]
  },
  {
   "cell_type": "code",
   "execution_count": null,
   "metadata": {
    "colab": {
     "base_uri": "https://localhost:8080/"
    },
    "dotnet_interactive": {
     "language": "csharp"
    },
    "id": "ZVzs2TYlvYeX",
    "outputId": "80c8b1e5-0d1c-4799-d682-4a5be0c038a1",
    "vscode": {
     "languageId": "dotnet-interactive.csharp"
    }
   },
   "outputs": [
    {
     "ename": "Error",
     "evalue": "(1,18): error CS1001: Identifier expected\r\n(1,25): error CS1001: Identifier expected\r\n(1,35): error CS1001: Identifier expected\r\n(1,48): error CS1001: Identifier expected\r\n(1,54): error CS1018: Keyword 'this' or 'base' expected\r\n(1,54): error CS1002: ; expected\r\n(2,39): error CS1002: ; expected\r\n(4,31): error CS1002: ; expected\r\n(5,36): error CS1002: ; expected\r\n(7,53): error CS1525: Invalid expression term ')'\r\n(7,73): error CS1002: ; expected\r\n(8,31): error CS1026: ) expected\r\n(8,60): error CS1002: ; expected\r\n(8,60): error CS7017: Member definition, statement, or end-of-file expected\r\n(9,65): error CS1002: ; expected\r\n(11,24): error CS1002: ; expected\r\n(12,64): error CS1525: Invalid expression term '{'\r\n(12,64): error CS1026: ) expected\r\n(12,64): error CS1002: ; expected\r\n(12,72): error CS1002: ; expected\r\n(12,72): error CS1513: } expected\r\n(12,102): error CS1002: ; expected\r\n(12,102): error CS1513: } expected\r\n(12,110): error CS1002: ; expected\r\n(12,110): error CS1513: } expected\r\n(12,139): error CS1002: ; expected\r\n(12,140): error CS7017: Member definition, statement, or end-of-file expected\r\n(14,15): error CS1525: Invalid expression term '['\r\n(14,16): error CS0443: Syntax error; value expected\r\n(14,17): error CS1002: ; expected\r\n(15,34): error CS1002: ; expected\r\n(17,9): error CS1003: Syntax error, '(' expected\r\n(17,11): error CS1003: Syntax error, ',' expected\r\n(17,14): error CS1003: Syntax error, ',' expected\r\n(17,29): error CS1001: Identifier expected\r\n(17,30): error CS0443: Syntax error; value expected\r\n(17,32): error CS1525: Invalid expression term ':'\r\n(17,32): error CS1003: Syntax error, ',' expected\r\n(17,37): error CS1003: Syntax error, ',' expected\r\n(17,38): error CS1003: Syntax error, ',' expected\r\n(18,23): error CS1003: Syntax error, ',' expected\r\n(18,70): error CS1003: Syntax error, ',' expected\r\n(20,12): error CS1003: Syntax error, ',' expected\r\n(20,59): error CS1002: ; expected\r\n(20,59): error CS1525: Invalid expression term 'return'\r\n(20,59): error CS1002: ; expected\r\n(20,59): error CS1026: ) expected\r\n(21,19): error CS1002: ; expected",
     "output_type": "error",
     "traceback": [
      "(1,18): error CS1001: Identifier expected\r\n",
      "(1,25): error CS1001: Identifier expected\r\n",
      "(1,35): error CS1001: Identifier expected\r\n",
      "(1,48): error CS1001: Identifier expected\r\n",
      "(1,54): error CS1018: Keyword 'this' or 'base' expected\r\n",
      "(1,54): error CS1002: ; expected\r\n",
      "(2,39): error CS1002: ; expected\r\n",
      "(4,31): error CS1002: ; expected\r\n",
      "(5,36): error CS1002: ; expected\r\n",
      "(7,53): error CS1525: Invalid expression term ')'\r\n",
      "(7,73): error CS1002: ; expected\r\n",
      "(8,31): error CS1026: ) expected\r\n",
      "(8,60): error CS1002: ; expected\r\n",
      "(8,60): error CS7017: Member definition, statement, or end-of-file expected\r\n",
      "(9,65): error CS1002: ; expected\r\n",
      "(11,24): error CS1002: ; expected\r\n",
      "(12,64): error CS1525: Invalid expression term '{'\r\n",
      "(12,64): error CS1026: ) expected\r\n",
      "(12,64): error CS1002: ; expected\r\n",
      "(12,72): error CS1002: ; expected\r\n",
      "(12,72): error CS1513: } expected\r\n",
      "(12,102): error CS1002: ; expected\r\n",
      "(12,102): error CS1513: } expected\r\n",
      "(12,110): error CS1002: ; expected\r\n",
      "(12,110): error CS1513: } expected\r\n",
      "(12,139): error CS1002: ; expected\r\n",
      "(12,140): error CS7017: Member definition, statement, or end-of-file expected\r\n",
      "(14,15): error CS1525: Invalid expression term '['\r\n",
      "(14,16): error CS0443: Syntax error; value expected\r\n",
      "(14,17): error CS1002: ; expected\r\n",
      "(15,34): error CS1002: ; expected\r\n",
      "(17,9): error CS1003: Syntax error, '(' expected\r\n",
      "(17,11): error CS1003: Syntax error, ',' expected\r\n",
      "(17,14): error CS1003: Syntax error, ',' expected\r\n",
      "(17,29): error CS1001: Identifier expected\r\n",
      "(17,30): error CS0443: Syntax error; value expected\r\n",
      "(17,32): error CS1525: Invalid expression term ':'\r\n",
      "(17,32): error CS1003: Syntax error, ',' expected\r\n",
      "(17,37): error CS1003: Syntax error, ',' expected\r\n",
      "(17,38): error CS1003: Syntax error, ',' expected\r\n",
      "(18,23): error CS1003: Syntax error, ',' expected\r\n",
      "(18,70): error CS1003: Syntax error, ',' expected\r\n",
      "(20,12): error CS1003: Syntax error, ',' expected\r\n",
      "(20,59): error CS1002: ; expected\r\n",
      "(20,59): error CS1525: Invalid expression term 'return'\r\n",
      "(20,59): error CS1002: ; expected\r\n",
      "(20,59): error CS1026: ) expected\r\n",
      "(21,19): error CS1002: ; expected"
     ]
    }
   ],
   "source": [
    "def infer(context, top_p=0.9, temp=1.0, gen_len=512):\n",
    "    tokens = tokenizer.encode(context)\n",
    "\n",
    "    provided_ctx = len(tokens)\n",
    "    pad_amount = seq - provided_ctx\n",
    "\n",
    "    padded_tokens = np.pad(tokens, ((pad_amount, 0),)).astype(np.uint32)\n",
    "    batched_tokens = np.array([padded_tokens] * total_batch)\n",
    "    length = np.ones(total_batch, dtype=np.uint32) * len(tokens)\n",
    "\n",
    "    start = time.time()\n",
    "    output = network.generate(batched_tokens, length, gen_len, {\"top_p\": np.ones(total_batch) * top_p, \"temp\": np.ones(total_batch) * temp})\n",
    "\n",
    "    samples = []\n",
    "    decoded_tokens = output[1][0]\n",
    "\n",
    "    for o in decoded_tokens[:, :, 0]:\n",
    "      samples.append(f\"\\033[1m{context}\\033[0m{tokenizer.decode(o)}\")\n",
    "\n",
    "    print(f\"completion done in {time.time() - start:06}s\")\n",
    "    return samples\n",
    "\n",
    "print(infer(\"EleutherAI is\")[0])"
   ]
  },
  {
   "cell_type": "code",
   "execution_count": null,
   "metadata": {
    "colab": {
     "base_uri": "https://localhost:8080/"
    },
    "dotnet_interactive": {
     "language": "csharp"
    },
    "id": "nvlAK6RbCJYg",
    "outputId": "c0525611-ecc8-422e-d8e3-24b3a2159083",
    "vscode": {
     "languageId": "dotnet-interactive.csharp"
    }
   },
   "outputs": [
    {
     "ename": "Error",
     "evalue": "(1,1): error CS1024: Preprocessor directive expected\r\n(2,13): error CS1040: Preprocessor directives must appear as the first non-whitespace character on a line\r\n(3,1): error CS1002: ; expected\r\n(3,10): error CS1040: Preprocessor directives must appear as the first non-whitespace character on a line\r\n(3,9): error CS1002: ; expected\r\n(5,247): error CS1002: ; expected",
     "output_type": "error",
     "traceback": [
      "(1,1): error CS1024: Preprocessor directive expected\r\n",
      "(2,13): error CS1040: Preprocessor directives must appear as the first non-whitespace character on a line\r\n",
      "(3,1): error CS1002: ; expected\r\n",
      "(3,10): error CS1040: Preprocessor directives must appear as the first non-whitespace character on a line\r\n",
      "(3,9): error CS1002: ; expected\r\n",
      "(5,247): error CS1002: ; expected"
     ]
    }
   ],
   "source": [
    "#@title  { form-width: \"300px\" }\n",
    "top_p = 0.9 #@param {type:\"slider\", min:0, max:1, step:0.1}\n",
    "temp = 1 #@param {type:\"slider\", min:0, max:1, step:0.1}\n",
    "\n",
    "context = \"\"\"In a shocking finding, scientist discovered a herd of unicorns living in a remote, previously unexplored valley, in the Andes Mountains. Even more surprising to the researchers was the fact that the unicorns spoke perfect English.\"\"\"\n",
    "\n",
    "print(infer(top_p=top_p, temp=temp, gen_len=512, context=context)[0])"
   ]
  }
 ],
 "metadata": {
  "accelerator": "TPU",
  "colab": {
   "collapsed_sections": [],
   "machine_shape": "hm",
   "name": "GPT-J-6B Inference Demo.ipynb",
   "provenance": [],
   "toc_visible": true
  },
  "kernelspec": {
   "display_name": ".NET (C#)",
   "language": "C#",
   "name": ".net-csharp"
  },
  "language_info": {
   "file_extension": ".cs",
   "mimetype": "text/x-csharp",
   "name": "C#",
   "pygments_lexer": "csharp",
   "version": "9.0"
  },
  "widgets": {
   "application/vnd.jupyter.widget-state+json": {
    "0fb689df0a8b42c2b87e7f11b818b88a": {
     "model_module": "@jupyter-widgets/base",
     "model_name": "LayoutModel",
     "state": {
      "_model_module": "@jupyter-widgets/base",
      "_model_module_version": "1.2.0",
      "_model_name": "LayoutModel",
      "_view_count": null,
      "_view_module": "@jupyter-widgets/base",
      "_view_module_version": "1.2.0",
      "_view_name": "LayoutView",
      "align_content": null,
      "align_items": null,
      "align_self": null,
      "border": null,
      "bottom": null,
      "display": null,
      "flex": null,
      "flex_flow": null,
      "grid_area": null,
      "grid_auto_columns": null,
      "grid_auto_flow": null,
      "grid_auto_rows": null,
      "grid_column": null,
      "grid_gap": null,
      "grid_row": null,
      "grid_template_areas": null,
      "grid_template_columns": null,
      "grid_template_rows": null,
      "height": null,
      "justify_content": null,
      "justify_items": null,
      "left": null,
      "margin": null,
      "max_height": null,
      "max_width": null,
      "min_height": null,
      "min_width": null,
      "object_fit": null,
      "object_position": null,
      "order": null,
      "overflow": null,
      "overflow_x": null,
      "overflow_y": null,
      "padding": null,
      "right": null,
      "top": null,
      "visibility": null,
      "width": null
     }
    },
    "3426927332884df4b1ec5544ed479c45": {
     "model_module": "@jupyter-widgets/controls",
     "model_name": "DescriptionStyleModel",
     "state": {
      "_model_module": "@jupyter-widgets/controls",
      "_model_module_version": "1.5.0",
      "_model_name": "DescriptionStyleModel",
      "_view_count": null,
      "_view_module": "@jupyter-widgets/base",
      "_view_module_version": "1.2.0",
      "_view_name": "StyleView",
      "description_width": ""
     }
    },
    "39aed05f694a495abd03aa00ff71efb3": {
     "model_module": "@jupyter-widgets/base",
     "model_name": "LayoutModel",
     "state": {
      "_model_module": "@jupyter-widgets/base",
      "_model_module_version": "1.2.0",
      "_model_name": "LayoutModel",
      "_view_count": null,
      "_view_module": "@jupyter-widgets/base",
      "_view_module_version": "1.2.0",
      "_view_name": "LayoutView",
      "align_content": null,
      "align_items": null,
      "align_self": null,
      "border": null,
      "bottom": null,
      "display": null,
      "flex": null,
      "flex_flow": null,
      "grid_area": null,
      "grid_auto_columns": null,
      "grid_auto_flow": null,
      "grid_auto_rows": null,
      "grid_column": null,
      "grid_gap": null,
      "grid_row": null,
      "grid_template_areas": null,
      "grid_template_columns": null,
      "grid_template_rows": null,
      "height": null,
      "justify_content": null,
      "justify_items": null,
      "left": null,
      "margin": null,
      "max_height": null,
      "max_width": null,
      "min_height": null,
      "min_width": null,
      "object_fit": null,
      "object_position": null,
      "order": null,
      "overflow": null,
      "overflow_x": null,
      "overflow_y": null,
      "padding": null,
      "right": null,
      "top": null,
      "visibility": null,
      "width": null
     }
    },
    "3ba9fe91731f4ff380cda2183ad72c4d": {
     "model_module": "@jupyter-widgets/controls",
     "model_name": "FloatProgressModel",
     "state": {
      "_dom_classes": [],
      "_model_module": "@jupyter-widgets/controls",
      "_model_module_version": "1.5.0",
      "_model_name": "FloatProgressModel",
      "_view_count": null,
      "_view_module": "@jupyter-widgets/controls",
      "_view_module_version": "1.5.0",
      "_view_name": "ProgressView",
      "bar_style": "success",
      "description": "Downloading: 100%",
      "description_tooltip": null,
      "layout": "IPY_MODEL_fb1263f5a3da42e6acab0e9a66551b32",
      "max": 456318,
      "min": 0,
      "orientation": "horizontal",
      "style": "IPY_MODEL_b3ac7912f51746afae20616269dc69f0",
      "value": 456318
     }
    },
    "4e01b9cceffb4d178e97f1d1b36d62b0": {
     "model_module": "@jupyter-widgets/controls",
     "model_name": "HTMLModel",
     "state": {
      "_dom_classes": [],
      "_model_module": "@jupyter-widgets/controls",
      "_model_module_version": "1.5.0",
      "_model_name": "HTMLModel",
      "_view_count": null,
      "_view_module": "@jupyter-widgets/controls",
      "_view_module_version": "1.5.0",
      "_view_name": "HTMLView",
      "description": "",
      "description_tooltip": null,
      "layout": "IPY_MODEL_debf4a0a609a4cffa5cd686a0a23f6e2",
      "placeholder": "​",
      "style": "IPY_MODEL_3426927332884df4b1ec5544ed479c45",
      "value": " 456k/456k [00:00&lt;00:00, 928kB/s]"
     }
    },
    "4f803e3d56b74e18997b216bf9d65337": {
     "model_module": "@jupyter-widgets/controls",
     "model_name": "HTMLModel",
     "state": {
      "_dom_classes": [],
      "_model_module": "@jupyter-widgets/controls",
      "_model_module_version": "1.5.0",
      "_model_name": "HTMLModel",
      "_view_count": null,
      "_view_module": "@jupyter-widgets/controls",
      "_view_module_version": "1.5.0",
      "_view_name": "HTMLView",
      "description": "",
      "description_tooltip": null,
      "layout": "IPY_MODEL_0fb689df0a8b42c2b87e7f11b818b88a",
      "placeholder": "​",
      "style": "IPY_MODEL_61b0857802184b51abf77039fad681d7",
      "value": " 1.04M/1.04M [00:07&lt;00:00, 148kB/s]"
     }
    },
    "5360630d6b0541dbaafa7ff91610bd84": {
     "model_module": "@jupyter-widgets/controls",
     "model_name": "HTMLModel",
     "state": {
      "_dom_classes": [],
      "_model_module": "@jupyter-widgets/controls",
      "_model_module_version": "1.5.0",
      "_model_name": "HTMLModel",
      "_view_count": null,
      "_view_module": "@jupyter-widgets/controls",
      "_view_module_version": "1.5.0",
      "_view_name": "HTMLView",
      "description": "",
      "description_tooltip": null,
      "layout": "IPY_MODEL_bb7410ff9cb4484da73302993427b90a",
      "placeholder": "​",
      "style": "IPY_MODEL_67f7c3bc59384dc7812d7130c7cde450",
      "value": " 1.36M/1.36M [00:03&lt;00:00, 404kB/s]"
     }
    },
    "5b8a31b3b4034116af0a81d897c3123b": {
     "model_module": "@jupyter-widgets/controls",
     "model_name": "HBoxModel",
     "state": {
      "_dom_classes": [],
      "_model_module": "@jupyter-widgets/controls",
      "_model_module_version": "1.5.0",
      "_model_name": "HBoxModel",
      "_view_count": null,
      "_view_module": "@jupyter-widgets/controls",
      "_view_module_version": "1.5.0",
      "_view_name": "HBoxView",
      "box_style": "",
      "children": [
       "IPY_MODEL_9e6646f7066341ef9619f5f7e6f7c8b8",
       "IPY_MODEL_4f803e3d56b74e18997b216bf9d65337"
      ],
      "layout": "IPY_MODEL_835ee2070c05443c9fa3ae6fece3fb44"
     }
    },
    "61b0857802184b51abf77039fad681d7": {
     "model_module": "@jupyter-widgets/controls",
     "model_name": "DescriptionStyleModel",
     "state": {
      "_model_module": "@jupyter-widgets/controls",
      "_model_module_version": "1.5.0",
      "_model_name": "DescriptionStyleModel",
      "_view_count": null,
      "_view_module": "@jupyter-widgets/base",
      "_view_module_version": "1.2.0",
      "_view_name": "StyleView",
      "description_width": ""
     }
    },
    "67f7c3bc59384dc7812d7130c7cde450": {
     "model_module": "@jupyter-widgets/controls",
     "model_name": "DescriptionStyleModel",
     "state": {
      "_model_module": "@jupyter-widgets/controls",
      "_model_module_version": "1.5.0",
      "_model_name": "DescriptionStyleModel",
      "_view_count": null,
      "_view_module": "@jupyter-widgets/base",
      "_view_module_version": "1.2.0",
      "_view_name": "StyleView",
      "description_width": ""
     }
    },
    "7197de8a39ab4e4186eabd061c730cf5": {
     "model_module": "@jupyter-widgets/controls",
     "model_name": "HBoxModel",
     "state": {
      "_dom_classes": [],
      "_model_module": "@jupyter-widgets/controls",
      "_model_module_version": "1.5.0",
      "_model_name": "HBoxModel",
      "_view_count": null,
      "_view_module": "@jupyter-widgets/controls",
      "_view_module_version": "1.5.0",
      "_view_name": "HBoxView",
      "box_style": "",
      "children": [
       "IPY_MODEL_bb11a4fbf16f488082aa2bac7443fd62",
       "IPY_MODEL_5360630d6b0541dbaafa7ff91610bd84"
      ],
      "layout": "IPY_MODEL_c31661c9a1ff4bd681cc10d70fd287c0"
     }
    },
    "74672c43909444c592955afd0d727a28": {
     "model_module": "@jupyter-widgets/base",
     "model_name": "LayoutModel",
     "state": {
      "_model_module": "@jupyter-widgets/base",
      "_model_module_version": "1.2.0",
      "_model_name": "LayoutModel",
      "_view_count": null,
      "_view_module": "@jupyter-widgets/base",
      "_view_module_version": "1.2.0",
      "_view_name": "LayoutView",
      "align_content": null,
      "align_items": null,
      "align_self": null,
      "border": null,
      "bottom": null,
      "display": null,
      "flex": null,
      "flex_flow": null,
      "grid_area": null,
      "grid_auto_columns": null,
      "grid_auto_flow": null,
      "grid_auto_rows": null,
      "grid_column": null,
      "grid_gap": null,
      "grid_row": null,
      "grid_template_areas": null,
      "grid_template_columns": null,
      "grid_template_rows": null,
      "height": null,
      "justify_content": null,
      "justify_items": null,
      "left": null,
      "margin": null,
      "max_height": null,
      "max_width": null,
      "min_height": null,
      "min_width": null,
      "object_fit": null,
      "object_position": null,
      "order": null,
      "overflow": null,
      "overflow_x": null,
      "overflow_y": null,
      "padding": null,
      "right": null,
      "top": null,
      "visibility": null,
      "width": null
     }
    },
    "835ee2070c05443c9fa3ae6fece3fb44": {
     "model_module": "@jupyter-widgets/base",
     "model_name": "LayoutModel",
     "state": {
      "_model_module": "@jupyter-widgets/base",
      "_model_module_version": "1.2.0",
      "_model_name": "LayoutModel",
      "_view_count": null,
      "_view_module": "@jupyter-widgets/base",
      "_view_module_version": "1.2.0",
      "_view_name": "LayoutView",
      "align_content": null,
      "align_items": null,
      "align_self": null,
      "border": null,
      "bottom": null,
      "display": null,
      "flex": null,
      "flex_flow": null,
      "grid_area": null,
      "grid_auto_columns": null,
      "grid_auto_flow": null,
      "grid_auto_rows": null,
      "grid_column": null,
      "grid_gap": null,
      "grid_row": null,
      "grid_template_areas": null,
      "grid_template_columns": null,
      "grid_template_rows": null,
      "height": null,
      "justify_content": null,
      "justify_items": null,
      "left": null,
      "margin": null,
      "max_height": null,
      "max_width": null,
      "min_height": null,
      "min_width": null,
      "object_fit": null,
      "object_position": null,
      "order": null,
      "overflow": null,
      "overflow_x": null,
      "overflow_y": null,
      "padding": null,
      "right": null,
      "top": null,
      "visibility": null,
      "width": null
     }
    },
    "8b76924bdac749d5b4908678fd0a7497": {
     "model_module": "@jupyter-widgets/controls",
     "model_name": "HBoxModel",
     "state": {
      "_dom_classes": [],
      "_model_module": "@jupyter-widgets/controls",
      "_model_module_version": "1.5.0",
      "_model_name": "HBoxModel",
      "_view_count": null,
      "_view_module": "@jupyter-widgets/controls",
      "_view_module_version": "1.5.0",
      "_view_name": "HBoxView",
      "box_style": "",
      "children": [
       "IPY_MODEL_3ba9fe91731f4ff380cda2183ad72c4d",
       "IPY_MODEL_4e01b9cceffb4d178e97f1d1b36d62b0"
      ],
      "layout": "IPY_MODEL_b03bd083afc84f52834d4a124e57c442"
     }
    },
    "9e6646f7066341ef9619f5f7e6f7c8b8": {
     "model_module": "@jupyter-widgets/controls",
     "model_name": "FloatProgressModel",
     "state": {
      "_dom_classes": [],
      "_model_module": "@jupyter-widgets/controls",
      "_model_module_version": "1.5.0",
      "_model_name": "FloatProgressModel",
      "_view_count": null,
      "_view_module": "@jupyter-widgets/controls",
      "_view_module_version": "1.5.0",
      "_view_name": "ProgressView",
      "bar_style": "success",
      "description": "Downloading: 100%",
      "description_tooltip": null,
      "layout": "IPY_MODEL_39aed05f694a495abd03aa00ff71efb3",
      "max": 1042301,
      "min": 0,
      "orientation": "horizontal",
      "style": "IPY_MODEL_f9fa7c1bc9f04df09e487b16761d6b8f",
      "value": 1042301
     }
    },
    "b03bd083afc84f52834d4a124e57c442": {
     "model_module": "@jupyter-widgets/base",
     "model_name": "LayoutModel",
     "state": {
      "_model_module": "@jupyter-widgets/base",
      "_model_module_version": "1.2.0",
      "_model_name": "LayoutModel",
      "_view_count": null,
      "_view_module": "@jupyter-widgets/base",
      "_view_module_version": "1.2.0",
      "_view_name": "LayoutView",
      "align_content": null,
      "align_items": null,
      "align_self": null,
      "border": null,
      "bottom": null,
      "display": null,
      "flex": null,
      "flex_flow": null,
      "grid_area": null,
      "grid_auto_columns": null,
      "grid_auto_flow": null,
      "grid_auto_rows": null,
      "grid_column": null,
      "grid_gap": null,
      "grid_row": null,
      "grid_template_areas": null,
      "grid_template_columns": null,
      "grid_template_rows": null,
      "height": null,
      "justify_content": null,
      "justify_items": null,
      "left": null,
      "margin": null,
      "max_height": null,
      "max_width": null,
      "min_height": null,
      "min_width": null,
      "object_fit": null,
      "object_position": null,
      "order": null,
      "overflow": null,
      "overflow_x": null,
      "overflow_y": null,
      "padding": null,
      "right": null,
      "top": null,
      "visibility": null,
      "width": null
     }
    },
    "b3ac7912f51746afae20616269dc69f0": {
     "model_module": "@jupyter-widgets/controls",
     "model_name": "ProgressStyleModel",
     "state": {
      "_model_module": "@jupyter-widgets/controls",
      "_model_module_version": "1.5.0",
      "_model_name": "ProgressStyleModel",
      "_view_count": null,
      "_view_module": "@jupyter-widgets/base",
      "_view_module_version": "1.2.0",
      "_view_name": "StyleView",
      "bar_color": null,
      "description_width": "initial"
     }
    },
    "bb11a4fbf16f488082aa2bac7443fd62": {
     "model_module": "@jupyter-widgets/controls",
     "model_name": "FloatProgressModel",
     "state": {
      "_dom_classes": [],
      "_model_module": "@jupyter-widgets/controls",
      "_model_module_version": "1.5.0",
      "_model_name": "FloatProgressModel",
      "_view_count": null,
      "_view_module": "@jupyter-widgets/controls",
      "_view_module_version": "1.5.0",
      "_view_name": "ProgressView",
      "bar_style": "success",
      "description": "Downloading: 100%",
      "description_tooltip": null,
      "layout": "IPY_MODEL_74672c43909444c592955afd0d727a28",
      "max": 1355256,
      "min": 0,
      "orientation": "horizontal",
      "style": "IPY_MODEL_f3883c133c62438db114c22cfc94e351",
      "value": 1355256
     }
    },
    "bb7410ff9cb4484da73302993427b90a": {
     "model_module": "@jupyter-widgets/base",
     "model_name": "LayoutModel",
     "state": {
      "_model_module": "@jupyter-widgets/base",
      "_model_module_version": "1.2.0",
      "_model_name": "LayoutModel",
      "_view_count": null,
      "_view_module": "@jupyter-widgets/base",
      "_view_module_version": "1.2.0",
      "_view_name": "LayoutView",
      "align_content": null,
      "align_items": null,
      "align_self": null,
      "border": null,
      "bottom": null,
      "display": null,
      "flex": null,
      "flex_flow": null,
      "grid_area": null,
      "grid_auto_columns": null,
      "grid_auto_flow": null,
      "grid_auto_rows": null,
      "grid_column": null,
      "grid_gap": null,
      "grid_row": null,
      "grid_template_areas": null,
      "grid_template_columns": null,
      "grid_template_rows": null,
      "height": null,
      "justify_content": null,
      "justify_items": null,
      "left": null,
      "margin": null,
      "max_height": null,
      "max_width": null,
      "min_height": null,
      "min_width": null,
      "object_fit": null,
      "object_position": null,
      "order": null,
      "overflow": null,
      "overflow_x": null,
      "overflow_y": null,
      "padding": null,
      "right": null,
      "top": null,
      "visibility": null,
      "width": null
     }
    },
    "c31661c9a1ff4bd681cc10d70fd287c0": {
     "model_module": "@jupyter-widgets/base",
     "model_name": "LayoutModel",
     "state": {
      "_model_module": "@jupyter-widgets/base",
      "_model_module_version": "1.2.0",
      "_model_name": "LayoutModel",
      "_view_count": null,
      "_view_module": "@jupyter-widgets/base",
      "_view_module_version": "1.2.0",
      "_view_name": "LayoutView",
      "align_content": null,
      "align_items": null,
      "align_self": null,
      "border": null,
      "bottom": null,
      "display": null,
      "flex": null,
      "flex_flow": null,
      "grid_area": null,
      "grid_auto_columns": null,
      "grid_auto_flow": null,
      "grid_auto_rows": null,
      "grid_column": null,
      "grid_gap": null,
      "grid_row": null,
      "grid_template_areas": null,
      "grid_template_columns": null,
      "grid_template_rows": null,
      "height": null,
      "justify_content": null,
      "justify_items": null,
      "left": null,
      "margin": null,
      "max_height": null,
      "max_width": null,
      "min_height": null,
      "min_width": null,
      "object_fit": null,
      "object_position": null,
      "order": null,
      "overflow": null,
      "overflow_x": null,
      "overflow_y": null,
      "padding": null,
      "right": null,
      "top": null,
      "visibility": null,
      "width": null
     }
    },
    "debf4a0a609a4cffa5cd686a0a23f6e2": {
     "model_module": "@jupyter-widgets/base",
     "model_name": "LayoutModel",
     "state": {
      "_model_module": "@jupyter-widgets/base",
      "_model_module_version": "1.2.0",
      "_model_name": "LayoutModel",
      "_view_count": null,
      "_view_module": "@jupyter-widgets/base",
      "_view_module_version": "1.2.0",
      "_view_name": "LayoutView",
      "align_content": null,
      "align_items": null,
      "align_self": null,
      "border": null,
      "bottom": null,
      "display": null,
      "flex": null,
      "flex_flow": null,
      "grid_area": null,
      "grid_auto_columns": null,
      "grid_auto_flow": null,
      "grid_auto_rows": null,
      "grid_column": null,
      "grid_gap": null,
      "grid_row": null,
      "grid_template_areas": null,
      "grid_template_columns": null,
      "grid_template_rows": null,
      "height": null,
      "justify_content": null,
      "justify_items": null,
      "left": null,
      "margin": null,
      "max_height": null,
      "max_width": null,
      "min_height": null,
      "min_width": null,
      "object_fit": null,
      "object_position": null,
      "order": null,
      "overflow": null,
      "overflow_x": null,
      "overflow_y": null,
      "padding": null,
      "right": null,
      "top": null,
      "visibility": null,
      "width": null
     }
    },
    "f3883c133c62438db114c22cfc94e351": {
     "model_module": "@jupyter-widgets/controls",
     "model_name": "ProgressStyleModel",
     "state": {
      "_model_module": "@jupyter-widgets/controls",
      "_model_module_version": "1.5.0",
      "_model_name": "ProgressStyleModel",
      "_view_count": null,
      "_view_module": "@jupyter-widgets/base",
      "_view_module_version": "1.2.0",
      "_view_name": "StyleView",
      "bar_color": null,
      "description_width": "initial"
     }
    },
    "f9fa7c1bc9f04df09e487b16761d6b8f": {
     "model_module": "@jupyter-widgets/controls",
     "model_name": "ProgressStyleModel",
     "state": {
      "_model_module": "@jupyter-widgets/controls",
      "_model_module_version": "1.5.0",
      "_model_name": "ProgressStyleModel",
      "_view_count": null,
      "_view_module": "@jupyter-widgets/base",
      "_view_module_version": "1.2.0",
      "_view_name": "StyleView",
      "bar_color": null,
      "description_width": "initial"
     }
    },
    "fb1263f5a3da42e6acab0e9a66551b32": {
     "model_module": "@jupyter-widgets/base",
     "model_name": "LayoutModel",
     "state": {
      "_model_module": "@jupyter-widgets/base",
      "_model_module_version": "1.2.0",
      "_model_name": "LayoutModel",
      "_view_count": null,
      "_view_module": "@jupyter-widgets/base",
      "_view_module_version": "1.2.0",
      "_view_name": "LayoutView",
      "align_content": null,
      "align_items": null,
      "align_self": null,
      "border": null,
      "bottom": null,
      "display": null,
      "flex": null,
      "flex_flow": null,
      "grid_area": null,
      "grid_auto_columns": null,
      "grid_auto_flow": null,
      "grid_auto_rows": null,
      "grid_column": null,
      "grid_gap": null,
      "grid_row": null,
      "grid_template_areas": null,
      "grid_template_columns": null,
      "grid_template_rows": null,
      "height": null,
      "justify_content": null,
      "justify_items": null,
      "left": null,
      "margin": null,
      "max_height": null,
      "max_width": null,
      "min_height": null,
      "min_width": null,
      "object_fit": null,
      "object_position": null,
      "order": null,
      "overflow": null,
      "overflow_x": null,
      "overflow_y": null,
      "padding": null,
      "right": null,
      "top": null,
      "visibility": null,
      "width": null
     }
    }
   }
  }
 },
 "nbformat": 4,
 "nbformat_minor": 0
}
